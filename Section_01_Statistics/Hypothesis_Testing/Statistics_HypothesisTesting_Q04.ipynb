{
 "cells": [
  {
   "cell_type": "code",
   "execution_count": null,
   "id": "4143a078",
   "metadata": {},
   "outputs": [],
   "source": [
    "import numpy as np\n",
    "import pandas as pd\n",
    "from davood_ml_functions import *\n",
    "import scipy.stats as st\n",
    "from warnings import filterwarnings\n",
    "filterwarnings(\"ignore\")"
   ]
  },
  {
   "cell_type": "code",
   "execution_count": 53,
   "id": "38b4796a",
   "metadata": {},
   "outputs": [],
   "source": [
    "path = ... # path to the main dataset\n",
    "path = r\"C:\\Users\\Davood\\Desktop\\Bootcamp\\DivarEstate\\clean_data.csv\"\n",
    "df = pd.read_csv(path , index_col = 0)"
   ]
  },
  {
   "cell_type": "code",
   "execution_count": 54,
   "id": "3fc4d115",
   "metadata": {},
   "outputs": [],
   "source": [
    "# residential = [\"residential-sell\" , \"residential-rent\" , \"temporary-rent\"]\n",
    "# df = df.loc[df[\"cat2_slug\"].isin(residential)]"
   ]
  },
  {
   "cell_type": "code",
   "execution_count": 55,
   "id": "cf577771",
   "metadata": {},
   "outputs": [],
   "source": [
    "lower = df[\"Y\"].quantile(0.02)\n",
    "upper = df[\"Y\"].quantile(0.98)\n",
    "con1 = df[\"Y\"] >= lower\n",
    "con2 = df[\"Y\"] <= upper\n",
    "df = df.loc[con1 & con2]"
   ]
  },
  {
   "cell_type": "code",
   "execution_count": 56,
   "id": "d1dede0d",
   "metadata": {},
   "outputs": [],
   "source": [
    "lux_options = [\"has_barbecue\" , \"has_pool\" , \"has_jacuzzi\" , \"has_sauna\" , ]\n",
    "normal_options = [\"has_balcony\" , \"has_elevator\" , \"has_warehouse\" , \"has_parking\" ,\n",
    "\"has_warm_water_provider\" , \"has_heating_system\" , \"is_rebuilt\" , \"has_cooling_system\" , \n",
    "\"has_restroom\" , \"has_security_guard\" , \"has_water\" , \"has_electricity\" , \"has_gas\"]\n",
    "\n",
    "df[\"has_lux\"] = (df.loc[:,lux_options].sum(axis = 1) > 0)\n",
    "df[\"has_normal\"] = (df.loc[:,normal_options].sum(axis = 1) > 0)\n",
    "df = df[[\"has_lux\" , \"has_normal\" , \"Y\"]]\n",
    "df = df.dropna(subset = [ \"Y\"])"
   ]
  },
  {
   "cell_type": "code",
   "execution_count": 107,
   "id": "482ef6f9",
   "metadata": {},
   "outputs": [
    {
     "name": "stdout",
     "output_type": "stream",
     "text": [
      "632071\n",
      "4523\n",
      "--------------------------------------------------\n",
      "0.30023300556988886\n",
      "0.4303967834677648\n"
     ]
    }
   ],
   "source": [
    "X = df[\"Y\"]\n",
    "X1 = df.loc[df[\"has_lux\"] == False , \"Y\"] # rows with no luxury option\n",
    "X2 = df.loc[df[\"has_lux\"] == True , \"Y\"] # rows with at least 1 luxury option\n",
    "print(len(X1))\n",
    "print(len(X2))\n",
    "print(50 * \"-\")\n",
    "print(X1.mean() / 10 ** 10)\n",
    "print(X2.mean() / 10 ** 10)"
   ]
  },
  {
   "cell_type": "markdown",
   "id": "72498757",
   "metadata": {},
   "source": [
    "## Test if normally distributed"
   ]
  },
  {
   "cell_type": "code",
   "execution_count": 90,
   "id": "a3d94c49",
   "metadata": {},
   "outputs": [
    {
     "name": "stdout",
     "output_type": "stream",
     "text": [
      "H0: Data IS normally distributed.\n",
      "H1: Data is NOT normally distributed.\n",
      "--------------------------------------------------\n",
      "S_hat = 2.6636\n",
      "K_hat = 11.4812\n",
      "JB = 2660668.9975\n",
      "Chi2_0.95_2 = 5.9915\n",
      "--------------------------------------------------\n",
      "P-value = 0.0%\n",
      "--------------------------------------------------\n",
      "Reject H0; the distribution at α = 0.05 is NOT normal.\n",
      "--------------------------------------------------\n",
      "0.0\n"
     ]
    }
   ],
   "source": [
    "do_JB_test(X)\n",
    "print(50 * \"-\")\n",
    "stat , p = st.normaltest(X)\n",
    "print(p)"
   ]
  },
  {
   "cell_type": "markdown",
   "id": "ace53dcf",
   "metadata": {},
   "source": [
    "## Try to convert it to normal"
   ]
  },
  {
   "cell_type": "code",
   "execution_count": 68,
   "id": "b2079112",
   "metadata": {},
   "outputs": [
    {
     "name": "stdout",
     "output_type": "stream",
     "text": [
      "H0: Data IS normally distributed.\n",
      "H1: Data is NOT normally distributed.\n",
      "--------------------------------------------------\n",
      "S_hat = -0.7382\n",
      "K_hat = 3.6805\n",
      "JB = 70106.1115\n",
      "Chi2_0.95_2 = 5.9915\n",
      "--------------------------------------------------\n",
      "P-value = 0.0%\n",
      "--------------------------------------------------\n",
      "Reject H0; the distribution at α = 0.05 is NOT normal.\n"
     ]
    }
   ],
   "source": [
    "X_transformed = np.log1p(X)\n",
    "X_log = (X_transformed - X_transformed.mean()) / X_transformed.std()\n",
    "do_JB_test(X_log)"
   ]
  },
  {
   "cell_type": "code",
   "execution_count": 82,
   "id": "47d9124f",
   "metadata": {},
   "outputs": [
    {
     "name": "stdout",
     "output_type": "stream",
     "text": [
      "H0: Data IS normally distributed.\n",
      "H1: Data is NOT normally distributed.\n",
      "--------------------------------------------------\n",
      "S_hat = 1.1183\n",
      "K_hat = 4.0572\n",
      "JB = 162331.0967\n",
      "Chi2_0.95_2 = 5.9915\n",
      "--------------------------------------------------\n",
      "P-value = 0.0%\n",
      "--------------------------------------------------\n",
      "Reject H0; the distribution at α = 0.05 is NOT normal.\n",
      "--------------------------------------------------\n",
      "0.0\n"
     ]
    }
   ],
   "source": [
    "X_sqrt = np.sqrt(X)\n",
    "do_JB_test(X_sqrt)\n",
    "print(50 * \"-\")\n",
    "stat , p = st.normaltest(X_sqrt)\n",
    "print(p)"
   ]
  },
  {
   "cell_type": "code",
   "execution_count": 84,
   "id": "60b4fd47",
   "metadata": {},
   "outputs": [
    {
     "name": "stdout",
     "output_type": "stream",
     "text": [
      "H0: Data IS normally distributed.\n",
      "H1: Data is NOT normally distributed.\n",
      "--------------------------------------------------\n",
      "S_hat = -0.0465\n",
      "K_hat = 2.4716\n",
      "JB = 7634.8161\n",
      "Chi2_0.95_2 = 5.9915\n",
      "--------------------------------------------------\n",
      "P-value = 0.0%\n",
      "--------------------------------------------------\n",
      "Reject H0; the distribution at α = 0.05 is NOT normal.\n",
      "--------------------------------------------------\n",
      "0.0\n"
     ]
    }
   ],
   "source": [
    "X_boxcox , _ = st.boxcox(X + 1e-6)\n",
    "do_JB_test(X_boxcox)\n",
    "print(50 * \"-\")\n",
    "stat , p = st.normaltest(X_boxcox)\n",
    "print(p)"
   ]
  },
  {
   "cell_type": "code",
   "execution_count": 85,
   "id": "f70c0441",
   "metadata": {},
   "outputs": [
    {
     "name": "stdout",
     "output_type": "stream",
     "text": [
      "H0: Data IS normally distributed.\n",
      "H1: Data is NOT normally distributed.\n",
      "--------------------------------------------------\n",
      "S_hat = -0.0465\n",
      "K_hat = 2.4716\n",
      "JB = 7634.8177\n",
      "Chi2_0.95_2 = 5.9915\n",
      "--------------------------------------------------\n",
      "P-value = 0.0%\n",
      "--------------------------------------------------\n",
      "Reject H0; the distribution at α = 0.05 is NOT normal.\n",
      "--------------------------------------------------\n",
      "0.0\n"
     ]
    }
   ],
   "source": [
    "X_yeojohnson , _ = st.yeojohnson(X)\n",
    "do_JB_test(X_yeojohnson)\n",
    "print(50 * \"-\")\n",
    "stat , p = st.normaltest(X_yeojohnson)\n",
    "print(p)"
   ]
  },
  {
   "cell_type": "code",
   "execution_count": 86,
   "id": "d7618d82",
   "metadata": {},
   "outputs": [
    {
     "name": "stdout",
     "output_type": "stream",
     "text": [
      "H0: Data IS normally distributed.\n",
      "H1: Data is NOT normally distributed.\n",
      "--------------------------------------------------\n",
      "S_hat = 0.0008\n",
      "K_hat = 1.799\n",
      "JB = 38257.5667\n",
      "Chi2_0.95_2 = 5.9915\n",
      "--------------------------------------------------\n",
      "P-value = 0.0%\n",
      "--------------------------------------------------\n",
      "Reject H0; the distribution at α = 0.05 is NOT normal.\n",
      "--------------------------------------------------\n",
      "0.0\n"
     ]
    }
   ],
   "source": [
    "X_rank = st.rankdata(X)\n",
    "do_JB_test(X_rank)\n",
    "print(50 * \"-\")\n",
    "stat , p = st.normaltest(X_rank)\n",
    "print(p)"
   ]
  },
  {
   "cell_type": "code",
   "execution_count": 87,
   "id": "f0b1d8cf",
   "metadata": {},
   "outputs": [
    {
     "name": "stdout",
     "output_type": "stream",
     "text": [
      "H0: Data IS normally distributed.\n",
      "H1: Data is NOT normally distributed.\n",
      "--------------------------------------------------\n",
      "S_hat = 2.6636\n",
      "K_hat = 11.4812\n",
      "JB = 2660668.9975\n",
      "Chi2_0.95_2 = 5.9915\n",
      "--------------------------------------------------\n",
      "P-value = 0.0%\n",
      "--------------------------------------------------\n",
      "Reject H0; the distribution at α = 0.05 is NOT normal.\n",
      "--------------------------------------------------\n",
      "0.0\n"
     ]
    }
   ],
   "source": [
    "X_zscore = (X - X.mean()) / X.std(ddof = 1)\n",
    "do_JB_test(X_zscore)\n",
    "print(50 * \"-\")\n",
    "stat , p = st.normaltest(X_zscore)\n",
    "print(p)"
   ]
  },
  {
   "cell_type": "code",
   "execution_count": 91,
   "id": "974cabd3",
   "metadata": {},
   "outputs": [
    {
     "name": "stdout",
     "output_type": "stream",
     "text": [
      "H0: Data IS normally distributed.\n",
      "H1: Data is NOT normally distributed.\n",
      "--------------------------------------------------\n",
      "S_hat = 2.6636\n",
      "K_hat = 11.4812\n",
      "JB = 2660668.9975\n",
      "Chi2_0.95_2 = 5.9915\n",
      "--------------------------------------------------\n",
      "P-value = 0.0%\n",
      "--------------------------------------------------\n",
      "Reject H0; the distribution at α = 0.05 is NOT normal.\n",
      "--------------------------------------------------\n",
      "0.0\n"
     ]
    }
   ],
   "source": [
    "X_minmax = (X - X.min()) / (X.max() - X.min())\n",
    "do_JB_test(X_minmax)\n",
    "print(50 * \"-\")\n",
    "stat , p = st.normaltest(X_minmax)\n",
    "print(p)"
   ]
  },
  {
   "cell_type": "markdown",
   "id": "4c58819b",
   "metadata": {},
   "source": [
    "## Check for luxury options"
   ]
  },
  {
   "cell_type": "code",
   "execution_count": 97,
   "id": "db7fd4b2",
   "metadata": {},
   "outputs": [
    {
     "name": "stdout",
     "output_type": "stream",
     "text": [
      "H0: mean(X2) > mean(X1)\n",
      "H1: mean(X2) <= mean(X1)\n",
      "--------------------------------------------------\n",
      "bootstrap p-value: 0.0\n",
      "Reject H0: mean(X2) > mean(X1)\n"
     ]
    }
   ],
   "source": [
    "alpha = 0.05\n",
    "\n",
    "n1 = X1.shape[0]\n",
    "n2 = X2.shape[0]\n",
    "\n",
    "n_boot = 10000\n",
    "rng = np.random.default_rng()\n",
    "boot_diffs = np.empty(n_boot)\n",
    "for i in range(n_boot):\n",
    "    s1 = rng.choice(X1.values , size = n1 , replace = True)\n",
    "    s2 = rng.choice(X2.values , size = n2 , replace = True)\n",
    "    boot_diffs[i] = s2.mean() - s1.mean()\n",
    "p_boot = np.mean(boot_diffs <= 0)\n",
    "\n",
    "print(\"H0: mean(X2) > mean(X1)\")\n",
    "print(\"H1: mean(X2) <= mean(X1)\")\n",
    "print(50 * \"-\")\n",
    "print(\"bootstrap p-value:\" , p_boot)\n",
    "\n",
    "if p_boot < alpha:\n",
    "    print(\"Reject H0: mean(X2) > mean(X1)\")\n",
    "else:\n",
    "    print(\"Fail to reject H0\")\n"
   ]
  },
  {
   "cell_type": "markdown",
   "id": "8b8f5e03",
   "metadata": {},
   "source": [
    "## Check for non-luxury (normal) options"
   ]
  },
  {
   "cell_type": "code",
   "execution_count": 106,
   "id": "2e71ef28",
   "metadata": {},
   "outputs": [
    {
     "name": "stdout",
     "output_type": "stream",
     "text": [
      "456\n",
      "631615\n",
      "--------------------------------------------------\n",
      "0.11807511695877192\n",
      "0.30036451605840897\n"
     ]
    }
   ],
   "source": [
    "con1 = df[\"has_normal\"] == False\n",
    "con2 = df[\"has_lux\"] == False\n",
    "\n",
    "Y = df[\"Y\"]\n",
    "Y1 = df.loc[con1 & con2 , \"Y\"] # rows with no normal option\n",
    "Y2 = df.loc[(~con1) & con2 , \"Y\"] # rows with at least 1 normal option\n",
    "print(len(Y1))\n",
    "print(len(Y2))\n",
    "print(50 * \"-\")\n",
    "print(Y1.mean() / 10 ** 10)\n",
    "print(Y2.mean() / 10 ** 10)"
   ]
  },
  {
   "cell_type": "code",
   "execution_count": 104,
   "id": "8742f8ca",
   "metadata": {},
   "outputs": [
    {
     "name": "stdout",
     "output_type": "stream",
     "text": [
      "H0: mean(Y2) > mean(Y1)\n",
      "H1: mean(Y2) <= mean(Y1)\n",
      "--------------------------------------------------\n",
      "bootstrap p-value: 0.0\n",
      "Reject H0: mean(Y2) > mean(Y1)\n"
     ]
    }
   ],
   "source": [
    "alpha = 0.05\n",
    "\n",
    "n1 = Y1.shape[0]\n",
    "n2 = Y2.shape[0]\n",
    "\n",
    "n_boot = 10000\n",
    "rng = np.random.default_rng()\n",
    "boot_diffs = np.empty(n_boot)\n",
    "for i in range(n_boot):\n",
    "    s1 = rng.choice(Y1.values , size = n1 , replace = True)\n",
    "    s2 = rng.choice(Y2.values , size = n2 , replace = True)\n",
    "    boot_diffs[i] = s2.mean() - s1.mean()\n",
    "p_boot = np.mean(boot_diffs <= 0)\n",
    "\n",
    "print(\"H0: mean(Y2) > mean(Y1)\")\n",
    "print(\"H1: mean(Y2) <= mean(Y1)\")\n",
    "print(50 * \"-\")\n",
    "print(\"bootstrap p-value:\" , p_boot)\n",
    "\n",
    "if p_boot < alpha:\n",
    "    print(\"Reject H0: mean(Y2) > mean(Y1)\")\n",
    "else:\n",
    "    print(\"Fail to reject H0\")"
   ]
  }
 ],
 "metadata": {
  "kernelspec": {
   "display_name": "venv-3.13.3",
   "language": "python",
   "name": "python3"
  },
  "language_info": {
   "codemirror_mode": {
    "name": "ipython",
    "version": 3
   },
   "file_extension": ".py",
   "mimetype": "text/x-python",
   "name": "python",
   "nbconvert_exporter": "python",
   "pygments_lexer": "ipython3",
   "version": "3.13.3"
  }
 },
 "nbformat": 4,
 "nbformat_minor": 5
}

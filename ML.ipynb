{
 "cells": [
  {
   "cell_type": "code",
   "execution_count": 37,
   "id": "008dc1a6",
   "metadata": {},
   "outputs": [],
   "source": [
    "import numpy as np\n",
    "import pandas as pd\n",
    "import matplotlib.pyplot as plt\n",
    "import seaborn as sbn\n",
    "from davood_ml_functions import *\n",
    "from scipy import stats as st\n",
    "from xgboost import XGBClassifier\n",
    "from sklearn.linear_model import LogisticRegression\n",
    "from sklearn.model_selection import train_test_split\n",
    "from sklearn.metrics import f1_score , make_scorer\n",
    "from sklearn.utils.class_weight import compute_class_weight\n",
    "from skopt import BayesSearchCV\n",
    "from tqdm import tqdm\n",
    "from sklearn.metrics import mean_absolute_error, mean_squared_error, r2_score \n",
    "from xgboost import XGBRegressor"
   ]
  },
  {
   "cell_type": "code",
   "execution_count": null,
   "id": "702f8f6a",
   "metadata": {},
   "outputs": [],
   "source": [
    "path_clean = r\"C:\\Users\\moein\\clean_da.csv\"\n",
    "df = pd.read_csv(path_clean , index_col = 0)\n",
    "df.columns"
   ]
  },
  {
   "cell_type": "code",
   "execution_count": null,
   "id": "4b34fd94",
   "metadata": {},
   "outputs": [],
   "source": [
    "df[\"city_slug\"].value_counts()"
   ]
  },
  {
   "cell_type": "code",
   "execution_count": null,
   "id": "49f5591d",
   "metadata": {},
   "outputs": [],
   "source": [
    "(df[\"city_slug\"] == \"tehran\").isna().sum()"
   ]
  },
  {
   "cell_type": "code",
   "execution_count": null,
   "id": "2959d642",
   "metadata": {},
   "outputs": [],
   "source": [
    "path_clean = r\"C:\\Users\\moein\\clean_da.csv\"\n",
    "df = pd.read_csv(path_clean , index_col = 0)\n",
    "df[\"in_tehran\"] = (df[\"city_slug\"] == \"tehran\")\n",
    "selected_columns = [\"building_size\" , \"rooms_count\" , \"construction_year\" ,\n",
    "                    \"has_warehouse\" , \"has_parking\",\n",
    "                    'lux_count',\n",
    "                    \"cat2_slug\" ,  \"floor\" ,\n",
    "                    'location_latitude','location_longitude',\n",
    "                    # \"property_type\" , \"is_rebuilt\",\n",
    "                    \"for_sale\",\n",
    "                    \"in_tehran\",\n",
    "                    \"Y\"]\n",
    "\n",
    "df = df.dropna(subset = [\"Y\"])\n",
    "df = df.loc[: , selected_columns]\n",
    "df = df.loc[df[\"Y\"] > 0]\n",
    "df[\"Y\"] = np.log(df[\"Y\"])\n",
    "# df[\"Y\"] = np.cbrt(df[\"Y\"])\n",
    "\n",
    "# for_sale = [\"residential-sell\" , \"commercial-sell\"]\n",
    "# for_rent = [\"residential-rent\" , \"commercial-rent\" , \"temporary-rent\"]\n",
    "# df_sale = df.loc[df[\"for_sale\"] == True].drop(\"for_sale\" , axis = 1)\n",
    "# df_rent = df.loc[df[\"for_sale\"] == False].drop(\"for_sale\" , axis = 1)\n",
    "\n",
    "df = df.dropna()\n",
    "m = 100_000\n",
    "# df = df.sample(n = m , random_state = 42)\n",
    "\n",
    "X = df.drop(\"Y\" , axis = 1)\n",
    "X = pd.get_dummies(X)\n",
    "Y = df[\"Y\"]"
   ]
  },
  {
   "cell_type": "code",
   "execution_count": null,
   "id": "80786e84",
   "metadata": {},
   "outputs": [],
   "source": [
    "# # maximum features\n",
    "# path_clean = r\"C:\\Users\\Davood\\Desktop\\Bootcamp\\DivarEstate\\clean_data.csv\"\n",
    "# df = pd.read_csv(path_clean , index_col = 0)\n",
    "# to_drop = [\"cat3_slug\" , \"city_slug\" , \"neighborhood_slug\"]\n",
    "# get_table_null_dtype(df.drop(to_drop , axis = 1))\n",
    "# df = df.dropna(subset = [\"Y\"])\n",
    "# df = df.loc[df[\"Y\"] > 0]\n",
    "# df[\"Y\"] = np.log(df[\"Y\"])"
   ]
  },
  {
   "cell_type": "code",
   "execution_count": null,
   "id": "0b851ecd",
   "metadata": {},
   "outputs": [],
   "source": [
    "from xgboost import XGBRegressor\n",
    "\n",
    "search_spaces = {\n",
    "    'n_estimators': (100 , 300),\n",
    "    'max_depth': (3 , 7),\n",
    "    'learning_rate': (0.01 , 0.2 , 'log-uniform'),\n",
    "    'subsample': (0.7 , 1.0),\n",
    "    'colsample_bytree': (0.7 , 1.0),\n",
    "    'gamma': (0 , 2),\n",
    "    'reg_alpha': (1e-3 , 1 , 'log-uniform'),\n",
    "    'reg_lambda': (1e-3 , 1 , 'log-uniform')\n",
    "}\n",
    "\n",
    "bayes = BayesSearchCV(\n",
    "    estimator = XGBRegressor(random_state = 42),\n",
    "    search_spaces = search_spaces,\n",
    "    n_iter = 30,\n",
    "    cv = 5 ,\n",
    "    scoring = 'r2',\n",
    "    n_jobs = -1,\n",
    "    random_state = 42\n",
    ")\n",
    "\n",
    "bayes.fit(X , Y)\n",
    "\n",
    "best_model = bayes.best_estimator_\n",
    "best_params = bayes.best_params_\n",
    "best_score = bayes.best_score_"
   ]
  },
  {
   "cell_type": "code",
   "execution_count": null,
   "id": "db1933b9",
   "metadata": {},
   "outputs": [],
   "source": [
    "X_train , X_test , y_train , y_test = train_test_split(\n",
    "    X , Y , test_size = 0.2 , random_state = 42\n",
    ")\n",
    "\n",
    "xgb = XGBRegressor(\n",
    "    n_estimators = best_params[\"n_estimators\"] ,\n",
    "    learning_rate = best_params[\"learning_rate\"] ,\n",
    "    max_depth = best_params[\"max_depth\"] ,\n",
    "    subsample = best_params[\"subsample\"] ,\n",
    "    colsample_bytree = best_params[\"colsample_bytree\"] ,\n",
    "    gamma = best_params[\"gamma\"] ,\n",
    "    reg_alpha = best_params[\"reg_alpha\"] ,\n",
    "    reg_lambda = best_params[\"reg_lambda\"] ,\n",
    "    random_state = 42 ,\n",
    "    n_jobs = -1\n",
    ")\n",
    "\n",
    "xgb.fit(X_train , y_train)\n",
    "y_pred = xgb.predict(X_test)\n",
    "\n",
    "R2 = r2_score(y_test , y_pred)\n",
    "MSE = mean_squared_error(y_test , y_pred)\n",
    "MAE = mean_absolute_error(y_test , y_pred)\n",
    "print(f\"R2 = {round(R2*100 , 2)}%\")\n",
    "print(\"MSE =\" , round(MSE , 1))\n",
    "print(\"MAE =\" , round(MAE , 1))"
   ]
  },
  {
   "cell_type": "code",
   "execution_count": null,
   "id": "11e64d49-e80f-44bc-ad82-d0ccb63c1edb",
   "metadata": {},
   "outputs": [],
   "source": []
  },
  {
   "cell_type": "code",
   "execution_count": null,
   "id": "379bd5ff-5800-4c40-961d-c92e0795bb63",
   "metadata": {},
   "outputs": [],
   "source": []
  },
  {
   "cell_type": "code",
   "execution_count": null,
   "id": "cb86af9b-a3a5-4f86-abd9-a1e5dee2ddb6",
   "metadata": {},
   "outputs": [],
   "source": []
  },
  {
   "cell_type": "code",
   "execution_count": null,
   "id": "e7dea215-e368-4bda-a343-3f836a96b276",
   "metadata": {},
   "outputs": [],
   "source": []
  }
 ],
 "metadata": {
  "kernelspec": {
   "display_name": "Python [conda env:BOOTCAMP]",
   "language": "python",
   "name": "conda-env-BOOTCAMP-py"
  },
  "language_info": {
   "codemirror_mode": {
    "name": "ipython",
    "version": 3
   },
   "file_extension": ".py",
   "mimetype": "text/x-python",
   "name": "python",
   "nbconvert_exporter": "python",
   "pygments_lexer": "ipython3",
   "version": "3.13.5"
  }
 },
 "nbformat": 4,
 "nbformat_minor": 5
}
